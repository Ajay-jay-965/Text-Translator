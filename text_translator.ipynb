{
 "cells": [
  {
   "cell_type": "code",
   "execution_count": 3,
   "metadata": {},
   "outputs": [],
   "source": [
    "import tkinter as tk\n",
    "from googletrans import Translator\n",
    "\n",
    "win = tk.Tk()\n",
    "win.title(\"Translator\")\n",
    "win.geometry(\"200x70\")\n",
    "\n",
    "\n",
    "def translator():\n",
    "    word = entry.get()\n",
    "    translator = Translator(service_urls=[\"translate.google.com\"])\n",
    "    translation=translator.translate(word,dest=\"telugu\")\n",
    "    label1=tk.Label(win,text=f'Translated word :{translation.text}',bg=\"red\")\n",
    "    label1.grid(row=2,column=0)\n",
    "\n",
    "\n",
    "\n",
    "label = tk.Label(win, text=\"write Here :\")\n",
    "label.grid(row=0,column=0)\n",
    "\n",
    "entry = tk.Entry(win)\n",
    "entry.grid(row=1,column=0)\n",
    "button = tk.Button(win, text=\"Go\", command=translator)\n",
    "button.grid(row=1, column=1)\n",
    "\n",
    "win.mainloop()\n"
   ]
  },
  {
   "cell_type": "code",
   "execution_count": 1,
   "metadata": {},
   "outputs": [
    {
     "name": "stdout",
     "output_type": "stream",
     "text": [
      "hello\n"
     ]
    }
   ],
   "source": [
    "print('hello')"
   ]
  },
  {
   "cell_type": "code",
   "execution_count": null,
   "metadata": {},
   "outputs": [],
   "source": []
  },
  {
   "cell_type": "code",
   "execution_count": null,
   "metadata": {},
   "outputs": [],
   "source": [
    "\n"
   ]
  }
 ],
 "metadata": {
  "kernelspec": {
   "display_name": "Python 3",
   "language": "python",
   "name": "python3"
  },
  "language_info": {
   "codemirror_mode": {
    "name": "ipython",
    "version": 3
   },
   "file_extension": ".py",
   "mimetype": "text/x-python",
   "name": "python",
   "nbconvert_exporter": "python",
   "pygments_lexer": "ipython3",
   "version": "3.7.1"
  }
 },
 "nbformat": 4,
 "nbformat_minor": 2
}
